{
 "cells": [
  {
   "metadata": {},
   "cell_type": "markdown",
   "source": "",
   "id": "8a77807f92f26ee"
  },
  {
   "metadata": {},
   "cell_type": "markdown",
   "source": "## 1. Подготовка к работе",
   "id": "f32d0ebbbd7602f6"
  },
  {
   "metadata": {
    "ExecuteTime": {
     "end_time": "2024-12-07T01:32:38.620647Z",
     "start_time": "2024-12-07T01:32:36.720604Z"
    }
   },
   "cell_type": "code",
   "source": [
    "from collections import defaultdict\n",
    "import nltk\n",
    "import pandas as pd\n",
    "from torch.utils.data import Dataset\n",
    "from nltk.corpus import stopwords\n",
    "from sklearn.model_selection import train_test_split\n",
    "from sklearn.feature_extraction.text import CountVectorizer\n",
    "from transformers import GPT2LMHeadModel, GPT2Tokenizer\n",
    "from transformers import Trainer, TrainingArguments\n"
   ],
   "id": "fbc121e30a2defb3",
   "outputs": [],
   "execution_count": 1
  },
  {
   "metadata": {
    "ExecuteTime": {
     "end_time": "2024-12-07T01:32:38.798687Z",
     "start_time": "2024-12-07T01:32:38.627279Z"
    }
   },
   "cell_type": "code",
   "source": "nltk.download('stopwords')",
   "id": "c0f60002656a80f6",
   "outputs": [
    {
     "name": "stderr",
     "output_type": "stream",
     "text": [
      "[nltk_data] Downloading package stopwords to\n",
      "[nltk_data]     /Users/mdchumakov/nltk_data...\n",
      "[nltk_data]   Package stopwords is already up-to-date!\n"
     ]
    },
    {
     "data": {
      "text/plain": [
       "True"
      ]
     },
     "execution_count": 2,
     "metadata": {},
     "output_type": "execute_result"
    }
   ],
   "execution_count": 2
  },
  {
   "metadata": {},
   "cell_type": "markdown",
   "source": "##  2. Загрузка и предварительная обработка данных",
   "id": "646653922d65fb36"
  },
  {
   "metadata": {},
   "cell_type": "markdown",
   "source": "### 2.1. Загрузка данных",
   "id": "fbadb88669734d30"
  },
  {
   "metadata": {
    "ExecuteTime": {
     "end_time": "2024-12-07T01:32:38.964031Z",
     "start_time": "2024-12-07T01:32:38.837766Z"
    }
   },
   "cell_type": "code",
   "source": [
    "df = pd.read_csv('data/work_data.csv')\n",
    "df.head()"
   ],
   "id": "2520816349bcb1d5",
   "outputs": [
    {
     "data": {
      "text/plain": [
       "                                             address             name_ru  \\\n",
       "0  Екатеринбург, ул. Московская / ул. Волгоградск...  Московский квартал   \n",
       "1  Московская область, Электросталь, проспект Лен...   Продукты Ермолино   \n",
       "2  Краснодар, Прикубанский внутригородской округ,...             LimeFit   \n",
       "3   Санкт-Петербург, проспект Энгельса, 111, корп. 1        Snow-Express   \n",
       "4                  Тверь, Волоколамский проспект, 39  Студия Beauty Brow   \n",
       "\n",
       "   rating                                            rubrics  \\\n",
       "0       3                                     Жилой комплекс   \n",
       "1       5  Магазин продуктов;Продукты глубокой заморозки;...   \n",
       "2       1                                        Фитнес-клуб   \n",
       "3       4        Пункт проката;Прокат велосипедов;Сапсёрфинг   \n",
       "4       5  Салон красоты;Визажисты, стилисты;Салон бровей...   \n",
       "\n",
       "                                                text  \n",
       "0  Московский квартал 2. Шумно : летом по ночам д...  \n",
       "1  Замечательная сеть магазинов в общем, хороший ...  \n",
       "2  Не знаю смутят ли кого-то данные правила, но я...  \n",
       "3  Хорошие условия аренды.  Дружелюбный персонал....  \n",
       "4  Топ мастер Ангелина топ во всех смыслах ) Немн...  "
      ],
      "text/html": [
       "<div>\n",
       "<style scoped>\n",
       "    .dataframe tbody tr th:only-of-type {\n",
       "        vertical-align: middle;\n",
       "    }\n",
       "\n",
       "    .dataframe tbody tr th {\n",
       "        vertical-align: top;\n",
       "    }\n",
       "\n",
       "    .dataframe thead th {\n",
       "        text-align: right;\n",
       "    }\n",
       "</style>\n",
       "<table border=\"1\" class=\"dataframe\">\n",
       "  <thead>\n",
       "    <tr style=\"text-align: right;\">\n",
       "      <th></th>\n",
       "      <th>address</th>\n",
       "      <th>name_ru</th>\n",
       "      <th>rating</th>\n",
       "      <th>rubrics</th>\n",
       "      <th>text</th>\n",
       "    </tr>\n",
       "  </thead>\n",
       "  <tbody>\n",
       "    <tr>\n",
       "      <th>0</th>\n",
       "      <td>Екатеринбург, ул. Московская / ул. Волгоградск...</td>\n",
       "      <td>Московский квартал</td>\n",
       "      <td>3</td>\n",
       "      <td>Жилой комплекс</td>\n",
       "      <td>Московский квартал 2. Шумно : летом по ночам д...</td>\n",
       "    </tr>\n",
       "    <tr>\n",
       "      <th>1</th>\n",
       "      <td>Московская область, Электросталь, проспект Лен...</td>\n",
       "      <td>Продукты Ермолино</td>\n",
       "      <td>5</td>\n",
       "      <td>Магазин продуктов;Продукты глубокой заморозки;...</td>\n",
       "      <td>Замечательная сеть магазинов в общем, хороший ...</td>\n",
       "    </tr>\n",
       "    <tr>\n",
       "      <th>2</th>\n",
       "      <td>Краснодар, Прикубанский внутригородской округ,...</td>\n",
       "      <td>LimeFit</td>\n",
       "      <td>1</td>\n",
       "      <td>Фитнес-клуб</td>\n",
       "      <td>Не знаю смутят ли кого-то данные правила, но я...</td>\n",
       "    </tr>\n",
       "    <tr>\n",
       "      <th>3</th>\n",
       "      <td>Санкт-Петербург, проспект Энгельса, 111, корп. 1</td>\n",
       "      <td>Snow-Express</td>\n",
       "      <td>4</td>\n",
       "      <td>Пункт проката;Прокат велосипедов;Сапсёрфинг</td>\n",
       "      <td>Хорошие условия аренды.  Дружелюбный персонал....</td>\n",
       "    </tr>\n",
       "    <tr>\n",
       "      <th>4</th>\n",
       "      <td>Тверь, Волоколамский проспект, 39</td>\n",
       "      <td>Студия Beauty Brow</td>\n",
       "      <td>5</td>\n",
       "      <td>Салон красоты;Визажисты, стилисты;Салон бровей...</td>\n",
       "      <td>Топ мастер Ангелина топ во всех смыслах ) Немн...</td>\n",
       "    </tr>\n",
       "  </tbody>\n",
       "</table>\n",
       "</div>"
      ]
     },
     "execution_count": 3,
     "metadata": {},
     "output_type": "execute_result"
    }
   ],
   "execution_count": 3
  },
  {
   "metadata": {
    "ExecuteTime": {
     "end_time": "2024-12-07T01:32:38.990608Z",
     "start_time": "2024-12-07T01:32:38.984419Z"
    }
   },
   "cell_type": "code",
   "source": "df.info()",
   "id": "dfdcb228ac9b2293",
   "outputs": [
    {
     "name": "stdout",
     "output_type": "stream",
     "text": [
      "<class 'pandas.core.frame.DataFrame'>\n",
      "RangeIndex: 15000 entries, 0 to 14999\n",
      "Data columns (total 5 columns):\n",
      " #   Column   Non-Null Count  Dtype \n",
      "---  ------   --------------  ----- \n",
      " 0   address  15000 non-null  object\n",
      " 1   name_ru  15000 non-null  object\n",
      " 2   rating   15000 non-null  int64 \n",
      " 3   rubrics  15000 non-null  object\n",
      " 4   text     15000 non-null  object\n",
      "dtypes: int64(1), object(4)\n",
      "memory usage: 586.1+ KB\n"
     ]
    }
   ],
   "execution_count": 4
  },
  {
   "metadata": {},
   "cell_type": "markdown",
   "source": [
    "### 2.2. Фильтрация и очистка данных\n",
    "\n",
    "Возьмем данные, которые не содержат короткие отзывы (меньше 10 символов) и не содержат пропусков."
   ],
   "id": "61fa7c11e7cf017a"
  },
  {
   "metadata": {
    "ExecuteTime": {
     "end_time": "2024-12-07T01:32:39.021651Z",
     "start_time": "2024-12-07T01:32:39.010058Z"
    }
   },
   "cell_type": "code",
   "source": [
    "# Удаление отзывов с длиной текста менее 10 символов\n",
    "df = df[df['text'].str.len() >= 10]\n",
    "# Удаление пропущенных значений\n",
    "df = df.dropna(subset=['text', 'name_ru', 'rating'])\n",
    "df.info()"
   ],
   "id": "8f0ae3baec3a88e2",
   "outputs": [
    {
     "name": "stdout",
     "output_type": "stream",
     "text": [
      "<class 'pandas.core.frame.DataFrame'>\n",
      "Index: 14998 entries, 0 to 14999\n",
      "Data columns (total 5 columns):\n",
      " #   Column   Non-Null Count  Dtype \n",
      "---  ------   --------------  ----- \n",
      " 0   address  14998 non-null  object\n",
      " 1   name_ru  14998 non-null  object\n",
      " 2   rating   14998 non-null  int64 \n",
      " 3   rubrics  14998 non-null  object\n",
      " 4   text     14998 non-null  object\n",
      "dtypes: int64(1), object(4)\n",
      "memory usage: 703.0+ KB\n"
     ]
    }
   ],
   "execution_count": 5
  },
  {
   "metadata": {},
   "cell_type": "markdown",
   "source": [
    "### 2.3. Преобразование категориальных данных\n",
    "\n",
    "Для эффективного использования категорий и ключевых слов их необходимо включить в входной контекст модели.\n"
   ],
   "id": "752320017b41219d"
  },
  {
   "metadata": {
    "ExecuteTime": {
     "end_time": "2024-12-07T01:32:41.741772Z",
     "start_time": "2024-12-07T01:32:39.052286Z"
    }
   },
   "cell_type": "code",
   "source": [
    "# Кодирование рейтинга\n",
    "df['rating'] = df['rating'].astype(int)\n",
    "\n",
    "# Пример добавления ключевых слов (можно использовать TF-IDF или другие методы)\n",
    "# Для простоты возьмем топ-N часто встречающихся слов в каждой рубрике\n",
    "def get_top_n_keywords(df_: pd.DataFrame, n: int = 5) -> defaultdict:\n",
    "    keywords = defaultdict(list)\n",
    "    vectorizer = CountVectorizer(\n",
    "        max_features=1000,\n",
    "        stop_words=stopwords.words('russian'),\n",
    "    )\n",
    "\n",
    "    for rubric in df_['rubrics'].unique():\n",
    "        texts = df_[df_['rubrics'] == rubric]['text']\n",
    "        X = vectorizer.fit_transform(texts)\n",
    "        counts = X.sum(axis=0).A1\n",
    "        vocab = vectorizer.get_feature_names_out()\n",
    "        top_n = [vocab[i] for i in counts.argsort()[-n:]]\n",
    "        keywords[rubric] = top_n\n",
    "\n",
    "    return keywords\n",
    "\n",
    "\n",
    "keywords = get_top_n_keywords(df)\n",
    "df['keywords'] = df['rubrics'].apply(lambda x: ', '.join(keywords.get(x, [])))\n",
    "df.head()"
   ],
   "id": "aeb36a2bab9d546b",
   "outputs": [
    {
     "data": {
      "text/plain": [
       "                                             address             name_ru  \\\n",
       "0  Екатеринбург, ул. Московская / ул. Волгоградск...  Московский квартал   \n",
       "1  Московская область, Электросталь, проспект Лен...   Продукты Ермолино   \n",
       "2  Краснодар, Прикубанский внутригородской округ,...             LimeFit   \n",
       "3   Санкт-Петербург, проспект Энгельса, 111, корп. 1        Snow-Express   \n",
       "4                  Тверь, Волоколамский проспект, 39  Студия Beauty Brow   \n",
       "\n",
       "   rating                                            rubrics  \\\n",
       "0       3                                     Жилой комплекс   \n",
       "1       5  Магазин продуктов;Продукты глубокой заморозки;...   \n",
       "2       1                                        Фитнес-клуб   \n",
       "3       4        Пункт проката;Прокат велосипедов;Сапсёрфинг   \n",
       "4       5  Салон красоты;Визажисты, стилисты;Салон бровей...   \n",
       "\n",
       "                                                text  \\\n",
       "0  Московский квартал 2. Шумно : летом по ночам д...   \n",
       "1  Замечательная сеть магазинов в общем, хороший ...   \n",
       "2  Не знаю смутят ли кого-то данные правила, но я...   \n",
       "3  Хорошие условия аренды.  Дружелюбный персонал....   \n",
       "4  Топ мастер Ангелина топ во всех смыслах ) Немн...   \n",
       "\n",
       "                                       keywords  \n",
       "0                   дома, жк, рядом, это, очень  \n",
       "1  вкусные, магазинов, магазин, блинчики, очень  \n",
       "2           отличный, это, персонал, очень, зал  \n",
       "3   размер, редкий, сноуборда, условия, хорошие  \n",
       "4              немного, жаль, щеточки, всё, топ  "
      ],
      "text/html": [
       "<div>\n",
       "<style scoped>\n",
       "    .dataframe tbody tr th:only-of-type {\n",
       "        vertical-align: middle;\n",
       "    }\n",
       "\n",
       "    .dataframe tbody tr th {\n",
       "        vertical-align: top;\n",
       "    }\n",
       "\n",
       "    .dataframe thead th {\n",
       "        text-align: right;\n",
       "    }\n",
       "</style>\n",
       "<table border=\"1\" class=\"dataframe\">\n",
       "  <thead>\n",
       "    <tr style=\"text-align: right;\">\n",
       "      <th></th>\n",
       "      <th>address</th>\n",
       "      <th>name_ru</th>\n",
       "      <th>rating</th>\n",
       "      <th>rubrics</th>\n",
       "      <th>text</th>\n",
       "      <th>keywords</th>\n",
       "    </tr>\n",
       "  </thead>\n",
       "  <tbody>\n",
       "    <tr>\n",
       "      <th>0</th>\n",
       "      <td>Екатеринбург, ул. Московская / ул. Волгоградск...</td>\n",
       "      <td>Московский квартал</td>\n",
       "      <td>3</td>\n",
       "      <td>Жилой комплекс</td>\n",
       "      <td>Московский квартал 2. Шумно : летом по ночам д...</td>\n",
       "      <td>дома, жк, рядом, это, очень</td>\n",
       "    </tr>\n",
       "    <tr>\n",
       "      <th>1</th>\n",
       "      <td>Московская область, Электросталь, проспект Лен...</td>\n",
       "      <td>Продукты Ермолино</td>\n",
       "      <td>5</td>\n",
       "      <td>Магазин продуктов;Продукты глубокой заморозки;...</td>\n",
       "      <td>Замечательная сеть магазинов в общем, хороший ...</td>\n",
       "      <td>вкусные, магазинов, магазин, блинчики, очень</td>\n",
       "    </tr>\n",
       "    <tr>\n",
       "      <th>2</th>\n",
       "      <td>Краснодар, Прикубанский внутригородской округ,...</td>\n",
       "      <td>LimeFit</td>\n",
       "      <td>1</td>\n",
       "      <td>Фитнес-клуб</td>\n",
       "      <td>Не знаю смутят ли кого-то данные правила, но я...</td>\n",
       "      <td>отличный, это, персонал, очень, зал</td>\n",
       "    </tr>\n",
       "    <tr>\n",
       "      <th>3</th>\n",
       "      <td>Санкт-Петербург, проспект Энгельса, 111, корп. 1</td>\n",
       "      <td>Snow-Express</td>\n",
       "      <td>4</td>\n",
       "      <td>Пункт проката;Прокат велосипедов;Сапсёрфинг</td>\n",
       "      <td>Хорошие условия аренды.  Дружелюбный персонал....</td>\n",
       "      <td>размер, редкий, сноуборда, условия, хорошие</td>\n",
       "    </tr>\n",
       "    <tr>\n",
       "      <th>4</th>\n",
       "      <td>Тверь, Волоколамский проспект, 39</td>\n",
       "      <td>Студия Beauty Brow</td>\n",
       "      <td>5</td>\n",
       "      <td>Салон красоты;Визажисты, стилисты;Салон бровей...</td>\n",
       "      <td>Топ мастер Ангелина топ во всех смыслах ) Немн...</td>\n",
       "      <td>немного, жаль, щеточки, всё, топ</td>\n",
       "    </tr>\n",
       "  </tbody>\n",
       "</table>\n",
       "</div>"
      ]
     },
     "execution_count": 6,
     "metadata": {},
     "output_type": "execute_result"
    }
   ],
   "execution_count": 6
  },
  {
   "metadata": {},
   "cell_type": "markdown",
   "source": [
    "### 2.4. Формирование входного текста для модели\n",
    "\n",
    "Объединим все необходимые параметры в единый текстовый формат, который будет подаваться на вход модели."
   ],
   "id": "35549ce3f6aff0b9"
  },
  {
   "metadata": {
    "ExecuteTime": {
     "end_time": "2024-12-07T01:32:41.827623Z",
     "start_time": "2024-12-07T01:32:41.764202Z"
    }
   },
   "cell_type": "code",
   "source": [
    "def create_prompt(row):\n",
    "    prompt = f\"Категория: {row['rubrics']}\\nРейтинг: {row['rating']}/5\\nКлючевые слова: {row['keywords']}\\nОтзыв:\"\n",
    "    return prompt\n",
    "\n",
    "df['prompt'] = df.apply(create_prompt, axis=1)\n",
    "df.head()"
   ],
   "id": "c0c4f5604bba0528",
   "outputs": [
    {
     "data": {
      "text/plain": [
       "                                             address             name_ru  \\\n",
       "0  Екатеринбург, ул. Московская / ул. Волгоградск...  Московский квартал   \n",
       "1  Московская область, Электросталь, проспект Лен...   Продукты Ермолино   \n",
       "2  Краснодар, Прикубанский внутригородской округ,...             LimeFit   \n",
       "3   Санкт-Петербург, проспект Энгельса, 111, корп. 1        Snow-Express   \n",
       "4                  Тверь, Волоколамский проспект, 39  Студия Beauty Brow   \n",
       "\n",
       "   rating                                            rubrics  \\\n",
       "0       3                                     Жилой комплекс   \n",
       "1       5  Магазин продуктов;Продукты глубокой заморозки;...   \n",
       "2       1                                        Фитнес-клуб   \n",
       "3       4        Пункт проката;Прокат велосипедов;Сапсёрфинг   \n",
       "4       5  Салон красоты;Визажисты, стилисты;Салон бровей...   \n",
       "\n",
       "                                                text  \\\n",
       "0  Московский квартал 2. Шумно : летом по ночам д...   \n",
       "1  Замечательная сеть магазинов в общем, хороший ...   \n",
       "2  Не знаю смутят ли кого-то данные правила, но я...   \n",
       "3  Хорошие условия аренды.  Дружелюбный персонал....   \n",
       "4  Топ мастер Ангелина топ во всех смыслах ) Немн...   \n",
       "\n",
       "                                       keywords  \\\n",
       "0                   дома, жк, рядом, это, очень   \n",
       "1  вкусные, магазинов, магазин, блинчики, очень   \n",
       "2           отличный, это, персонал, очень, зал   \n",
       "3   размер, редкий, сноуборда, условия, хорошие   \n",
       "4              немного, жаль, щеточки, всё, топ   \n",
       "\n",
       "                                              prompt  \n",
       "0  Категория: Жилой комплекс\\nРейтинг: 3/5\\nКлюче...  \n",
       "1  Категория: Магазин продуктов;Продукты глубокой...  \n",
       "2  Категория: Фитнес-клуб\\nРейтинг: 1/5\\nКлючевые...  \n",
       "3  Категория: Пункт проката;Прокат велосипедов;Са...  \n",
       "4  Категория: Салон красоты;Визажисты, стилисты;С...  "
      ],
      "text/html": [
       "<div>\n",
       "<style scoped>\n",
       "    .dataframe tbody tr th:only-of-type {\n",
       "        vertical-align: middle;\n",
       "    }\n",
       "\n",
       "    .dataframe tbody tr th {\n",
       "        vertical-align: top;\n",
       "    }\n",
       "\n",
       "    .dataframe thead th {\n",
       "        text-align: right;\n",
       "    }\n",
       "</style>\n",
       "<table border=\"1\" class=\"dataframe\">\n",
       "  <thead>\n",
       "    <tr style=\"text-align: right;\">\n",
       "      <th></th>\n",
       "      <th>address</th>\n",
       "      <th>name_ru</th>\n",
       "      <th>rating</th>\n",
       "      <th>rubrics</th>\n",
       "      <th>text</th>\n",
       "      <th>keywords</th>\n",
       "      <th>prompt</th>\n",
       "    </tr>\n",
       "  </thead>\n",
       "  <tbody>\n",
       "    <tr>\n",
       "      <th>0</th>\n",
       "      <td>Екатеринбург, ул. Московская / ул. Волгоградск...</td>\n",
       "      <td>Московский квартал</td>\n",
       "      <td>3</td>\n",
       "      <td>Жилой комплекс</td>\n",
       "      <td>Московский квартал 2. Шумно : летом по ночам д...</td>\n",
       "      <td>дома, жк, рядом, это, очень</td>\n",
       "      <td>Категория: Жилой комплекс\\nРейтинг: 3/5\\nКлюче...</td>\n",
       "    </tr>\n",
       "    <tr>\n",
       "      <th>1</th>\n",
       "      <td>Московская область, Электросталь, проспект Лен...</td>\n",
       "      <td>Продукты Ермолино</td>\n",
       "      <td>5</td>\n",
       "      <td>Магазин продуктов;Продукты глубокой заморозки;...</td>\n",
       "      <td>Замечательная сеть магазинов в общем, хороший ...</td>\n",
       "      <td>вкусные, магазинов, магазин, блинчики, очень</td>\n",
       "      <td>Категория: Магазин продуктов;Продукты глубокой...</td>\n",
       "    </tr>\n",
       "    <tr>\n",
       "      <th>2</th>\n",
       "      <td>Краснодар, Прикубанский внутригородской округ,...</td>\n",
       "      <td>LimeFit</td>\n",
       "      <td>1</td>\n",
       "      <td>Фитнес-клуб</td>\n",
       "      <td>Не знаю смутят ли кого-то данные правила, но я...</td>\n",
       "      <td>отличный, это, персонал, очень, зал</td>\n",
       "      <td>Категория: Фитнес-клуб\\nРейтинг: 1/5\\nКлючевые...</td>\n",
       "    </tr>\n",
       "    <tr>\n",
       "      <th>3</th>\n",
       "      <td>Санкт-Петербург, проспект Энгельса, 111, корп. 1</td>\n",
       "      <td>Snow-Express</td>\n",
       "      <td>4</td>\n",
       "      <td>Пункт проката;Прокат велосипедов;Сапсёрфинг</td>\n",
       "      <td>Хорошие условия аренды.  Дружелюбный персонал....</td>\n",
       "      <td>размер, редкий, сноуборда, условия, хорошие</td>\n",
       "      <td>Категория: Пункт проката;Прокат велосипедов;Са...</td>\n",
       "    </tr>\n",
       "    <tr>\n",
       "      <th>4</th>\n",
       "      <td>Тверь, Волоколамский проспект, 39</td>\n",
       "      <td>Студия Beauty Brow</td>\n",
       "      <td>5</td>\n",
       "      <td>Салон красоты;Визажисты, стилисты;Салон бровей...</td>\n",
       "      <td>Топ мастер Ангелина топ во всех смыслах ) Немн...</td>\n",
       "      <td>немного, жаль, щеточки, всё, топ</td>\n",
       "      <td>Категория: Салон красоты;Визажисты, стилисты;С...</td>\n",
       "    </tr>\n",
       "  </tbody>\n",
       "</table>\n",
       "</div>"
      ]
     },
     "execution_count": 7,
     "metadata": {},
     "output_type": "execute_result"
    }
   ],
   "execution_count": 7
  },
  {
   "metadata": {},
   "cell_type": "markdown",
   "source": "### 2.5. Разделение данных на обучающую и тестовую выборки\n",
   "id": "dde47416127307c"
  },
  {
   "metadata": {
    "ExecuteTime": {
     "end_time": "2024-12-07T01:32:41.849449Z",
     "start_time": "2024-12-07T01:32:41.845248Z"
    }
   },
   "cell_type": "code",
   "source": "train_df, eval_df = train_test_split(df, test_size=0.1, random_state=42)",
   "id": "6c120a77790cfcb3",
   "outputs": [],
   "execution_count": 8
  },
  {
   "metadata": {},
   "cell_type": "markdown",
   "source": [
    "## 3. Выбор и настройка модели\n",
    "\n",
    "Используем предобученную модель GPT-2, адаптированную для русского языка. Для этого можно воспользоваться sberbank-ai/rugpt3small_based_on_gpt2 от SberBank."
   ],
   "id": "a6ffb9a1def448d3"
  },
  {
   "metadata": {
    "ExecuteTime": {
     "end_time": "2024-12-07T01:32:43.368037Z",
     "start_time": "2024-12-07T01:32:41.912735Z"
    }
   },
   "cell_type": "code",
   "source": [
    "model_name = 'sberbank-ai/rugpt3small_based_on_gpt2'\n",
    "tokenizer = GPT2Tokenizer.from_pretrained(model_name)\n",
    "model = GPT2LMHeadModel.from_pretrained(model_name)"
   ],
   "id": "532ee884a9efbec5",
   "outputs": [],
   "execution_count": 9
  },
  {
   "metadata": {
    "ExecuteTime": {
     "end_time": "2024-12-07T01:32:43.807928Z",
     "start_time": "2024-12-07T01:32:43.390716Z"
    }
   },
   "cell_type": "code",
   "source": [
    "special_tokens_dict = {'additional_special_tokens': ['Отзыв:']}\n",
    "num_added_toks = tokenizer.add_special_tokens(special_tokens_dict)\n",
    "model.resize_token_embeddings(len(tokenizer))"
   ],
   "id": "82078cc584331089",
   "outputs": [
    {
     "data": {
      "text/plain": [
       "Embedding(50258, 768)"
      ]
     },
     "execution_count": 10,
     "metadata": {},
     "output_type": "execute_result"
    }
   ],
   "execution_count": 10
  },
  {
   "metadata": {},
   "cell_type": "markdown",
   "source": [
    "## 4. Подготовка данных для обучения\n",
    "\n",
    "Используем класс Dataset из PyTorch для создания подходящего формата данных."
   ],
   "id": "a8ade93c17bfd541"
  },
  {
   "metadata": {
    "ExecuteTime": {
     "end_time": "2024-12-07T01:32:43.825577Z",
     "start_time": "2024-12-07T01:32:43.822264Z"
    }
   },
   "cell_type": "code",
   "source": [
    "class ReviewsDataset(Dataset):\n",
    "    def __init__(self, prompts, texts, tokenizer, max_length=512):\n",
    "        self.prompts = prompts\n",
    "        self.texts = texts\n",
    "        self.tokenizer = tokenizer\n",
    "        self.max_length = max_length\n",
    "\n",
    "    def __len__(self):\n",
    "        return len(self.prompts)\n",
    "\n",
    "    def __getitem__(self, idx):\n",
    "        prompt = self.prompts[idx]\n",
    "        text = self.texts[idx]\n",
    "        encoding = self.tokenizer(prompt + ' ' + text, truncation=True, max_length=self.max_length, padding='max_length', return_tensors='pt')\n",
    "        input_ids = encoding['input_ids'].squeeze()\n",
    "        attention_mask = encoding['attention_mask'].squeeze()\n",
    "\n",
    "        labels = input_ids.clone()\n",
    "        # Мы хотим предсказывать только текст отзыва, поэтому маскируем промпт\n",
    "        prompt_encoding = self.tokenizer(prompt, truncation=True, max_length=self.max_length, return_tensors='pt')\n",
    "        labels[:prompt_encoding['input_ids'].size(1)] = -100  # Игнорируем потери для промпта\n",
    "\n",
    "        return {\n",
    "            'input_ids': input_ids,\n",
    "            'attention_mask': attention_mask,\n",
    "            'labels': labels\n",
    "        }\n"
   ],
   "id": "c923c4f2e70a5acc",
   "outputs": [],
   "execution_count": 11
  },
  {
   "metadata": {
    "ExecuteTime": {
     "end_time": "2024-12-07T01:32:43.840946Z",
     "start_time": "2024-12-07T01:32:43.837433Z"
    }
   },
   "cell_type": "code",
   "source": [
    "train_dataset = ReviewsDataset(\n",
    "    prompts=train_df['prompt'].tolist(),\n",
    "    texts=train_df['text'].tolist(),\n",
    "    tokenizer=tokenizer\n",
    ")\n",
    "\n",
    "eval_dataset = ReviewsDataset(\n",
    "    prompts=eval_df['prompt'].tolist(),\n",
    "    texts=eval_df['text'].tolist(),\n",
    "    tokenizer=tokenizer\n",
    ")\n"
   ],
   "id": "484ae8c68392aefa",
   "outputs": [],
   "execution_count": 12
  },
  {
   "metadata": {},
   "cell_type": "markdown",
   "source": [
    "## 5. Обучение модели\n",
    "\n",
    "Используем Trainer из Hugging Face для упрощения процесса обучения."
   ],
   "id": "e9c782f173701c97"
  },
  {
   "metadata": {
    "ExecuteTime": {
     "end_time": "2024-12-07T21:06:22.771841Z",
     "start_time": "2024-12-07T11:00:27.764505Z"
    }
   },
   "cell_type": "code",
   "source": [
    "training_args = TrainingArguments(\n",
    "    output_dir='./results',\n",
    "    num_train_epochs=3,\n",
    "    per_device_train_batch_size=4,\n",
    "    per_device_eval_batch_size=4,\n",
    "    warmup_steps=500,\n",
    "    weight_decay=0.01,\n",
    "    logging_dir='./logs',\n",
    "    logging_steps=1000,\n",
    "    eval_strategy='epoch',\n",
    "    save_strategy='epoch',\n",
    "    save_total_limit=2,\n",
    "    no_cuda=True,\n",
    ")\n",
    "\n",
    "trainer = Trainer(\n",
    "    model=model,\n",
    "    args=training_args,\n",
    "    train_dataset=train_dataset,\n",
    "    eval_dataset=eval_dataset,\n",
    ")\n",
    "\n",
    "trainer.train()\n"
   ],
   "id": "4e6605ae077aac26",
   "outputs": [
    {
     "name": "stderr",
     "output_type": "stream",
     "text": [
      "/Users/mdchumakov/miniconda3/lib/python3.12/site-packages/transformers/training_args.py:1590: FutureWarning: using `no_cuda` is deprecated and will be removed in version 5.0 of 🤗 Transformers. Use `use_cpu` instead\n",
      "  warnings.warn(\n"
     ]
    },
    {
     "data": {
      "text/plain": [
       "<IPython.core.display.HTML object>"
      ],
      "text/html": [
       "\n",
       "    <div>\n",
       "      \n",
       "      <progress value='10125' max='10125' style='width:300px; height:20px; vertical-align: middle;'></progress>\n",
       "      [10125/10125 10:05:50, Epoch 3/3]\n",
       "    </div>\n",
       "    <table border=\"1\" class=\"dataframe\">\n",
       "  <thead>\n",
       " <tr style=\"text-align: left;\">\n",
       "      <th>Epoch</th>\n",
       "      <th>Training Loss</th>\n",
       "      <th>Validation Loss</th>\n",
       "    </tr>\n",
       "  </thead>\n",
       "  <tbody>\n",
       "    <tr>\n",
       "      <td>1</td>\n",
       "      <td>23.701200</td>\n",
       "      <td>22.121820</td>\n",
       "    </tr>\n",
       "    <tr>\n",
       "      <td>2</td>\n",
       "      <td>22.037700</td>\n",
       "      <td>22.694113</td>\n",
       "    </tr>\n",
       "    <tr>\n",
       "      <td>3</td>\n",
       "      <td>24.566100</td>\n",
       "      <td>24.259766</td>\n",
       "    </tr>\n",
       "  </tbody>\n",
       "</table><p>"
      ]
     },
     "metadata": {},
     "output_type": "display_data"
    },
    {
     "data": {
      "text/plain": [
       "TrainOutput(global_step=10125, training_loss=24.0374500626929, metrics={'train_runtime': 36354.3918, 'train_samples_per_second': 1.114, 'train_steps_per_second': 0.279, 'total_flos': 1.0580759543808e+16, 'train_loss': 24.0374500626929, 'epoch': 3.0})"
      ]
     },
     "execution_count": 20,
     "metadata": {},
     "output_type": "execute_result"
    }
   ],
   "execution_count": 20
  },
  {
   "metadata": {},
   "cell_type": "markdown",
   "source": [
    "## 6. Генерация отзывов\n",
    "\n",
    "После обучения модели можно использовать её для генерации новых отзывов на основе заданных параметров."
   ],
   "id": "ab63251ccbf9919a"
  },
  {
   "metadata": {
    "ExecuteTime": {
     "end_time": "2024-12-07T21:35:40.204661Z",
     "start_time": "2024-12-07T21:35:39.047726Z"
    }
   },
   "cell_type": "code",
   "source": [
    "def generate_review(rubrics, rating, keywords, max_length=50):\n",
    "    prompt = f\"Категория: {rubrics}\\nРейтинг: {rating}/5\\nКлючевые слова: {keywords}\\nОтзыв:\"\n",
    "    input_ids = tokenizer.encode(prompt, return_tensors='pt')\n",
    "    output = model.generate(\n",
    "        input_ids,\n",
    "        max_length=len(input_ids[0]) + max_length,\n",
    "        num_return_sequences=1,\n",
    "        no_repeat_ngram_size=2,\n",
    "        # early_stopping=True,\n",
    "        pad_token_id=tokenizer.eos_token_id\n",
    "    )\n",
    "    generated_text = tokenizer.decode(output[0], skip_special_tokens=True)\n",
    "    # Извлекаем только отзыв\n",
    "    review = generated_text.split('Отзыв:')[-1].strip()\n",
    "    return review\n",
    "\n",
    "# Пример использования\n",
    "new_review = generate_review(\n",
    "    rubrics='Рестораны',\n",
    "    rating=3,\n",
    "    keywords=\"паста, атмосфера, обслуживание\"\n",
    ")\n",
    "print(new_review)"
   ],
   "id": "e00587b58cc67bc0",
   "outputs": [
    {
     "name": "stdout",
     "output_type": "stream",
     "text": [
      "Категория: Рестораны\n",
      "Рейтинг: 3/5\n",
      "Ключевые слова: паста, атмосфера, обслуживание\n",
      ", , \n",
      ", Василий,стая, [, заклад, &,щая,[,ковая,&,ати, отли, сокру, Ваша, мягкая,://, вла, отмечает, Владислав, первая, всп, освящ, государственная, Вла\n"
     ]
    }
   ],
   "execution_count": 33
  },
  {
   "metadata": {
    "ExecuteTime": {
     "end_time": "2024-12-07T21:26:59.992602Z",
     "start_time": "2024-12-07T21:26:59.561949Z"
    }
   },
   "cell_type": "code",
   "source": [
    "rubrics='Рестораны',\n",
    "rating=4,\n",
    "keywords='вкусно, обслуживание, уют'\n",
    "prompt = f\"Категория: {rubrics}\\nРейтинг: {rating}/5\\nКлючевые слова: {keywords}\\nОтзыв:\"\n",
    "input_ids = tokenizer.encode(prompt, return_tensors='pt')\n",
    "model.generate(input_ids)\n",
    "# model"
   ],
   "id": "731675026a4d397f",
   "outputs": [
    {
     "data": {
      "text/plain": [
       "tensor([[ 6207,  4591,  1183,    30,   473,    11,  8706, 26322,   318, 22493,\n",
       "            13,   203, 41342,  7851,    30,   473,    24,    16,    13,    19,\n",
       "            25,   203,   684,   623,   390,  1936,  1694,    30, 24636,    16,\n",
       "         16495,    16, 10360,   203, 50257,    16,   369,    16,   369,    16,\n",
       "           369,    16,   369,    16,   369,    16,   369,    16,   369,    16,\n",
       "           369,    16,   369,    16,   369]])"
      ]
     },
     "execution_count": 22,
     "metadata": {},
     "output_type": "execute_result"
    }
   ],
   "execution_count": 22
  },
  {
   "metadata": {
    "ExecuteTime": {
     "end_time": "2024-12-07T21:39:05.655393Z",
     "start_time": "2024-12-07T21:39:05.353431Z"
    }
   },
   "cell_type": "code",
   "source": [
    "model.save_pretrained(\"models/model_v1\")\n",
    "tokenizer.save_pretrained(\"models/model_v1\")"
   ],
   "id": "8d953df67d997cab",
   "outputs": [
    {
     "data": {
      "text/plain": [
       "('models/model_v1/tokenizer_config.json',\n",
       " 'models/model_v1/special_tokens_map.json',\n",
       " 'models/model_v1/vocab.json',\n",
       " 'models/model_v1/merges.txt',\n",
       " 'models/model_v1/added_tokens.json')"
      ]
     },
     "execution_count": 34,
     "metadata": {},
     "output_type": "execute_result"
    }
   ],
   "execution_count": 34
  },
  {
   "metadata": {},
   "cell_type": "code",
   "outputs": [],
   "execution_count": null,
   "source": "",
   "id": "1d0b87d42dded48d"
  }
 ],
 "metadata": {
  "kernelspec": {
   "display_name": "Python 3",
   "language": "python",
   "name": "python3"
  },
  "language_info": {
   "codemirror_mode": {
    "name": "ipython",
    "version": 2
   },
   "file_extension": ".py",
   "mimetype": "text/x-python",
   "name": "python",
   "nbconvert_exporter": "python",
   "pygments_lexer": "ipython2",
   "version": "2.7.6"
  }
 },
 "nbformat": 4,
 "nbformat_minor": 5
}
